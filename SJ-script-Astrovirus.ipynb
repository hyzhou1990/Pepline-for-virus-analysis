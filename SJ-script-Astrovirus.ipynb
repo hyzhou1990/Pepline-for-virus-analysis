{
 "cells": [
  {
   "cell_type": "markdown",
   "id": "55dcf59e-42f4-4ec0-8eda-383a67187784",
   "metadata": {
    "tags": []
   },
   "source": [
    "# Notebook for filter, anlgn and build phylogenetic tree for TBEV"
   ]
  },
  {
   "cell_type": "markdown",
   "id": "8982c186-1d87-44cb-96d4-4fff30a82791",
   "metadata": {},
   "source": [
    "## Load the fasta file and filter the sequences less than 10k base"
   ]
  },
  {
   "cell_type": "code",
   "execution_count": 1,
   "id": "32ba7b8d-c62e-43e9-ba81-42c964c97359",
   "metadata": {
    "tags": [],
    "trrack_graph": {
     "current": "e7d5c443-ea0a-430c-95ed-fd9a26c9ecba",
     "nodes": {
      "e7d5c443-ea0a-430c-95ed-fd9a26c9ecba": {
       "artifacts": [],
       "children": [],
       "createdOn": 1687837138729,
       "event": "Root",
       "id": "e7d5c443-ea0a-430c-95ed-fd9a26c9ecba",
       "label": "Root",
       "level": 0,
       "meta": {
        "annotation": [],
        "bookmark": []
       },
       "state": {
        "type": "checkpoint",
        "val": {
         "interactions": []
        }
       }
      }
     },
     "root": "e7d5c443-ea0a-430c-95ed-fd9a26c9ecba"
    }
   },
   "outputs": [],
   "source": [
    "WKDIR = '/home/jovyan/data/SJ-data/'"
   ]
  },
  {
   "cell_type": "code",
   "execution_count": 2,
   "id": "a4922110-340b-491f-a5a8-2705a491de7f",
   "metadata": {
    "tags": [],
    "trrack_graph": {
     "current": "4fb430d4-51f9-431f-8ca6-5e3f515ff395",
     "nodes": {
      "4fb430d4-51f9-431f-8ca6-5e3f515ff395": {
       "artifacts": [],
       "children": [],
       "createdOn": 1687837138749,
       "event": "Root",
       "id": "4fb430d4-51f9-431f-8ca6-5e3f515ff395",
       "label": "Root",
       "level": 0,
       "meta": {
        "annotation": [],
        "bookmark": []
       },
       "state": {
        "type": "checkpoint",
        "val": {
         "interactions": []
        }
       }
      }
     },
     "root": "4fb430d4-51f9-431f-8ca6-5e3f515ff395"
    }
   },
   "outputs": [],
   "source": [
    "import csv\n",
    "import Bio.Seq\n",
    "from Bio import SeqIO\n",
    "from Bio.Blast import NCBIWWW, NCBIXML"
   ]
  },
  {
   "cell_type": "code",
   "execution_count": 3,
   "id": "53b4e39f-7e85-427b-8e1c-f5773d0569b9",
   "metadata": {
    "tags": []
   },
   "outputs": [],
   "source": [
    "def readSeq(WKDIR,filename,lengthRequire):\n",
    "    seqs = {}\n",
    "    with open(WKDIR+filename,'r') as f:\n",
    "        for i in SeqIO.parse(f,'fasta'):\n",
    "            if len(i.seq) > lengthRequire:\n",
    "                seqs[i.description.split(' ')[0].split('.')[0]]=str(i.seq)\n",
    "    return seqs"
   ]
  },
  {
   "cell_type": "code",
   "execution_count": 4,
   "id": "5b5a8e78-6992-4811-9c07-0395fa4bfb23",
   "metadata": {
    "tags": [],
    "trrack_graph": {
     "current": "1bb4244f-fd0c-435c-bbe2-93909995eafe",
     "nodes": {
      "1bb4244f-fd0c-435c-bbe2-93909995eafe": {
       "artifacts": [],
       "children": [],
       "createdOn": 1687844738744,
       "event": "Root",
       "id": "1bb4244f-fd0c-435c-bbe2-93909995eafe",
       "label": "Root",
       "level": 0,
       "meta": {
        "annotation": [],
        "bookmark": []
       },
       "state": {
        "type": "checkpoint",
        "val": {
         "interactions": []
        }
       }
      }
     },
     "root": "1bb4244f-fd0c-435c-bbe2-93909995eafe"
    }
   },
   "outputs": [],
   "source": [
    "def separateMeta(WKDIR,filename,filteredSegment):\n",
    "    metadataDict = {}\n",
    "    if filteredSegment == 0:\n",
    "        with open(WKDIR+filename,'r') as f:\n",
    "            for i in SeqIO.parse(f,'fasta'):\n",
    "                if '-' in i.description.split('|')[2]:\n",
    "                    metadataDict[i.description.split('|')[0].split('.')[0]] = i.description.split('|')[1] + '_' + i.description.split('|')[2].split('-')[0]\n",
    "                else:\n",
    "                    metadataDict[i.description.split('|')[0].split('.')[0]] = i.description.split('|')[1] + '_' + i.description.split('|')[2]\n",
    "    else:\n",
    "        with open(WKDIR+filename,'r') as f:\n",
    "            for i in SeqIO.parse(f,'fasta'):\n",
    "                if i.description.split('|')[3] == str(filteredSegment):\n",
    "                    if '-' in i.description.split('|')[2]:\n",
    "                        metadataDict[i.description.split('|')[0].split('.')[0]] = i.description.split('|')[1] + '_' + i.description.split('|')[2].split('-')[0]\n",
    "                    else:\n",
    "                        metadataDict[i.description.split('|')[0].split('.')[0]] = i.description.split('|')[1] + '_' + i.description.split('|')[2]\n",
    "    return metadataDict"
   ]
  },
  {
   "cell_type": "code",
   "execution_count": 5,
   "id": "1318cc7d-212a-48cd-a131-603599720cd2",
   "metadata": {
    "tags": []
   },
   "outputs": [],
   "source": [
    "def writeSeq(WKDIR,seqDict,metadataDict,filename):\n",
    "    for i in metadataDict:\n",
    "        if 'NC_'not in i:\n",
    "            standartLen = len(i.split('_'))\n",
    "            \n",
    "    with open (WKDIR+filename,'w') as f:\n",
    "        for i in seqDict:\n",
    "            if 'NC_' not in i:\n",
    "                if '_' in i:\n",
    "                    metaID = i.split('_')[0]\n",
    "                    f.write('>'+i+'\\n'+seqDict[i].lower()+'\\n')\n",
    "                else:\n",
    "                    f.write('>'+i+'_'+metadataDict[i]+'\\n'+seqDict[i].lower()+'\\n')\n",
    "            else:\n",
    "                if len(i.split('_')) > standartLen:\n",
    "                    metaID = i.split('_')[0]+'_'+i.split('_')[1]\n",
    "                    f.write('>'+i+'\\n'+seqDict[i].lower()+'\\n')\n",
    "                else:\n",
    "                    f.write('>'+i+'_'+metadataDict[i]+'\\n'+seqDict[i].lower()+'\\n')"
   ]
  },
  {
   "cell_type": "code",
   "execution_count": 6,
   "id": "5fb299bd-6ca6-4161-9257-37a69ed8f54f",
   "metadata": {
    "tags": []
   },
   "outputs": [],
   "source": [
    "def writeSeqTrimHyphen(WKDIR,seqDict,metadataDict,filename):\n",
    "    for i in metadataDict:\n",
    "        if 'NC_'not in i:\n",
    "            standartLen = len(i.split('_'))\n",
    "            \n",
    "    with open (WKDIR+filename,'w') as f:\n",
    "        for i in seqDict:\n",
    "            if 'NC_' not in i:\n",
    "                if '_' in i:\n",
    "                    metaID = i.split('_')[0]\n",
    "                    f.write('>'+i+'\\n'+seqDict[i].lower().replace('-','')+'\\n')\n",
    "                else:\n",
    "                    f.write('>'+i+'_'+metadataDict[i]+'\\n'+seqDict[i].lower().replace('-','')+'\\n')\n",
    "            else:\n",
    "                if len(i.split('_')) > standartLen:\n",
    "                    metaID = i.split('_')[0]+'_'+i.split('_')[1]\n",
    "                    f.write('>'+i+'\\n'+seqDict[i].lower().replace('-','')+'\\n')\n",
    "                else:\n",
    "                    f.write('>'+i+'_'+metadataDict[i]+'\\n'+seqDict[i].lower().replace('-','')+'\\n')"
   ]
  },
  {
   "cell_type": "code",
   "execution_count": 7,
   "id": "c92e434f-75cb-4d07-a953-2c6c842b6221",
   "metadata": {
    "tags": []
   },
   "outputs": [],
   "source": [
    "def writeSeq_meta(WKDIR,seqDict,metadataDict,filename):\n",
    "    for i in metadataDict:\n",
    "        if 'NC_'not in i:\n",
    "            standartLen = len(i.split('_'))\n",
    "            \n",
    "    with open (WKDIR+filename,'w') as f:\n",
    "        for i in seqDict:\n",
    "            if 'NC_' not in i and i in metadataDict:\n",
    "                if '_' in i:\n",
    "                    metaID = i.split('_')[0]\n",
    "                    f.write('>'+i+'\\n'+seqDict[i].lower()+'\\n')\n",
    "                else:\n",
    "                    f.write('>'+i+'_'+metadataDict[i]+'\\n'+seqDict[i].lower()+'\\n')\n",
    "            elif i in metadataDict:\n",
    "                if len(i.split('_')) > standartLen:\n",
    "                    metaID = i.split('_')[0]+'_'+i.split('_')[1]\n",
    "                    f.write('>'+i+'\\n'+seqDict[i].lower()+'\\n')\n",
    "                else:\n",
    "                    f.write('>'+i+'_'+metadataDict[i]+'\\n'+seqDict[i].lower()+'\\n')"
   ]
  },
  {
   "cell_type": "code",
   "execution_count": 8,
   "id": "9244831e-f528-4fbf-8dcc-2f039d5e8210",
   "metadata": {
    "tags": []
   },
   "outputs": [],
   "source": [
    "def selectRegion(seqDict,startCodon,endCodon):\n",
    "    newDict = {}\n",
    "    for i in seqDict:\n",
    "        newDict[i] = seqDict[i][startCodon-1:endCodon]\n",
    "    return newDict"
   ]
  },
  {
   "cell_type": "code",
   "execution_count": 9,
   "id": "25b6cafc-5055-4a67-98b6-6a6a1a746147",
   "metadata": {
    "tags": []
   },
   "outputs": [],
   "source": [
    "def fliterHyphen(seqDict,numberOfHyphen):\n",
    "    newDict = {}\n",
    "    for i in seqDict:\n",
    "        count = 0\n",
    "        for char in seqDict[i]:\n",
    "            if char == '-':\n",
    "                count += 1\n",
    "        if count <= numberOfHyphen:\n",
    "            newDict[i] = seqDict[i]\n",
    "    return newDict\n",
    "        "
   ]
  },
  {
   "cell_type": "code",
   "execution_count": 10,
   "id": "32eddb85-e966-432f-9511-7e54cf2fd00e",
   "metadata": {
    "tags": []
   },
   "outputs": [],
   "source": [
    "def extractTrimList(WKDIR,trimfile,originalfile,outputfile):\n",
    "    IDlist = []\n",
    "    seqs = {}\n",
    "    with open(WKDIR+trimfile,'r') as f:\n",
    "        for i in SeqIO.parse(f,'fasta'):\n",
    "            IDlist.append(i.description)\n",
    "    with open(WKDIR+originalfile,'r') as f:\n",
    "        for i in SeqIO.parse(f,'fasta'):\n",
    "            seqs[i.description.split(' ')[0].split('.')[0]]=str(i.seq)\n",
    "    with open(WKDIR+outputfile,'w') as f:\n",
    "        for i in IDlist:\n",
    "            f.write('>'+i+'\\n'+seqs[i]+'\\n')       "
   ]
  },
  {
   "cell_type": "code",
   "execution_count": 11,
   "id": "d1fc07b2-f228-41a4-b712-f8b1e64b7f10",
   "metadata": {
    "tags": []
   },
   "outputs": [],
   "source": [
    "def findNCandWritetoFile(WKDIR,RefID,inputfile,virusName):\n",
    "    seqs = {}\n",
    "    with open(WKDIR+inputfile,'r') as f:\n",
    "        for i in SeqIO.parse(f,'fasta'):\n",
    "            if RefID in i.description:\n",
    "                with open(WKDIR+virusName+'-Ref-Region.fasta','w') as f:\n",
    "                    f.write('>'+i.description+'\\n'+str(i.seq)+'\\n')\n",
    "    "
   ]
  },
  {
   "cell_type": "code",
   "execution_count": 12,
   "id": "f0ebdf7f-8f4a-4da6-92f7-76cb8039bed5",
   "metadata": {
    "tags": []
   },
   "outputs": [],
   "source": [
    "def combineSeq(seqDict1,seqDict2):\n",
    "    combinedSeq = {}\n",
    "    for i in seqDict1:\n",
    "        combinedSeq[i] = seqDict1[i]\n",
    "    for i in seqDict2:\n",
    "        combinedSeq[i] = seqDict2[i]\n",
    "    return combinedSeq"
   ]
  },
  {
   "cell_type": "code",
   "execution_count": 13,
   "id": "0b4bfa88-1e94-4e6f-be45-c09113979cc2",
   "metadata": {
    "tags": []
   },
   "outputs": [],
   "source": [
    "def dedupNC(WKDIR,inputfile,outputfile):\n",
    "    newseqs = {}\n",
    "    with open(WKDIR+inputfile,'r') as f:\n",
    "        for i in SeqIO.parse(f,'fasta'):\n",
    "            newseqs[i.description] = str(i.seq)\n",
    "    with open(WKDIR+outputfile,'w') as f:\n",
    "        for i in newseqs:\n",
    "            f.write('>'+i+'\\n'+newseqs[i]+'\\n')\n",
    "    "
   ]
  },
  {
   "cell_type": "code",
   "execution_count": 14,
   "id": "2bd90f39-753d-49b9-a429-125d4c5d0ef9",
   "metadata": {
    "tags": []
   },
   "outputs": [],
   "source": [
    "def translate(WKDIR,seqDict,protein_name,start_coden,end_coden):\n",
    "    with open(WKDIR+protein_name+'.fasta','w') as f:\n",
    "        for i in seqDict:\n",
    "            seq = Bio.Seq.translate(seqDict[i][start_coden-1:end_coden].replace('-','n'))\n",
    "            if 'NC' not in i:\n",
    "                f.write('>'+i+'\\n'+seq+'\\n')\n",
    "            else:\n",
    "                f.write('>'+i+'\\n'+seq+'\\n')"
   ]
  },
  {
   "cell_type": "code",
   "execution_count": 53,
   "id": "99411458-3383-442f-b663-2e1ad2da861e",
   "metadata": {
    "tags": []
   },
   "outputs": [],
   "source": [
    "def reverseComplement(WKDIR,inputfile,outputfile):\n",
    "    newseqs = {}\n",
    "    with open(WKDIR+inputfile,'r') as f:\n",
    "        for i in SeqIO.parse(f,'fasta'):\n",
    "            newseqs[i.description] = str(i.seq.reverse_complement())\n",
    "    with open(WKDIR+outputfile,'w') as f:\n",
    "        for i in newseqs:\n",
    "            f.write('>'+i+'\\n'+newseqs[i]+'\\n')"
   ]
  },
  {
   "cell_type": "code",
   "execution_count": 87,
   "id": "6c533911-f690-462d-95b0-28eb36aad263",
   "metadata": {
    "tags": []
   },
   "outputs": [],
   "source": [
    "seqs = readSeq(WKDIR,'Astrovirus.fasta',0)"
   ]
  },
  {
   "cell_type": "code",
   "execution_count": 88,
   "id": "430c7958-59f2-4477-af40-6ea59f97ad54",
   "metadata": {
    "tags": [],
    "trrack_graph": {
     "current": "320b9028-a8c9-4128-9906-3a3c47b9ebf7",
     "nodes": {
      "320b9028-a8c9-4128-9906-3a3c47b9ebf7": {
       "artifacts": [],
       "children": [],
       "createdOn": 1687843971496,
       "event": "Root",
       "id": "320b9028-a8c9-4128-9906-3a3c47b9ebf7",
       "label": "Root",
       "level": 0,
       "meta": {
        "annotation": [],
        "bookmark": []
       },
       "state": {
        "type": "checkpoint",
        "val": {
         "interactions": []
        }
       }
      }
     },
     "root": "320b9028-a8c9-4128-9906-3a3c47b9ebf7"
    }
   },
   "outputs": [],
   "source": [
    "metadataDict = separateMeta(WKDIR,'Astrovirus.fasta',0)"
   ]
  },
  {
   "cell_type": "code",
   "execution_count": 89,
   "id": "6dcd58e4-8e09-4324-bf87-9e988fa9e8d7",
   "metadata": {
    "tags": []
   },
   "outputs": [
    {
     "data": {
      "text/plain": [
       "153"
      ]
     },
     "execution_count": 89,
     "metadata": {},
     "output_type": "execute_result"
    }
   ],
   "source": [
    "len(seqs)\n",
    "len(metadataDict)"
   ]
  },
  {
   "cell_type": "code",
   "execution_count": 90,
   "id": "7f8beed2-30ee-46d2-b617-873931ef0198",
   "metadata": {
    "tags": []
   },
   "outputs": [],
   "source": [
    "writeSeq_meta(WKDIR,seqs,metadataDict,'CovertID_Astrovirus.fasta')"
   ]
  },
  {
   "cell_type": "code",
   "execution_count": 91,
   "id": "de22a548-002e-450b-aef2-18436ac9a1c8",
   "metadata": {
    "tags": []
   },
   "outputs": [
    {
     "name": "stdout",
     "output_type": "stream",
     "text": [
      "nadd =  153\n",
      "npair =  153\n",
      "nseq =  154\n",
      "nlen =  6924\n",
      "use ktuples, size=6!\n",
      "nadd = 153\n",
      "ppenalty_ex = -10\n",
      "nthread = 60\n",
      "blosum 62 / kimura 200\n",
      "sueff_global = 0.100000\n",
      "norg = 1\n",
      "njobc = 2\n",
      "generating a scoring matrix for nucleotide (dist=200) ... done\n",
      "\n",
      "\n",
      "Making a distance matrix ..\n",
      "\n",
      "There are 20 ambiguous characters\n",
      "    1 / 1 (thread    0)\n",
      "done.\n",
      "\n",
      "fTEP 152 / 153 (thread 52)                    ff\n",
      "\n",
      "Combining ..\n",
      "   done.                      \n",
      "\n",
      "   done.                      \n",
      "\n",
      "addsingle (nuc) Version 7.520\n",
      "alg=A, model=DNA200 (2), 1.53 (4.59), -0.00 (-0.00), noshift, amax=0.0\n",
      "60 thread(s)\n",
      "\n",
      "\n",
      "To keep the alignment length, 7908 letters were DELETED.\n",
      "To know the positions of deleted letters, rerun the same command with the --mapout option.\n",
      "\n",
      "Strategy:\n",
      " FFT-NS-fragment (Not tested.)\n",
      " ?\n",
      "\n",
      "If unsure which option to use, try 'mafft --auto input > output'.\n",
      "For more information, see 'mafft --help', 'mafft --man' and the mafft page.\n",
      "\n",
      "The default gap scoring scheme has been changed in version 7.110 (2013 Oct).\n",
      "It tends to insert more gaps into gap-rich regions than previous versions.\n",
      "To disable this change, add the --leavegappyregion option.\n",
      "\n"
     ]
    }
   ],
   "source": [
    "!mafft --thread 60 --auto --keeplength --addfragments /home/jovyan/data/SJ-data/CovertID_Astrovirus.fasta /home/jovyan/data/SJ-data/Astrovirus-Ref.fasta > /home/jovyan/data/SJ-data/aligned_Astrovirus.fasta | tail -n 10"
   ]
  },
  {
   "cell_type": "code",
   "execution_count": 92,
   "id": "e0c7aed9-0a68-4388-91fb-f4f904437255",
   "metadata": {
    "tags": []
   },
   "outputs": [],
   "source": [
    "alignedSeq = readSeq(WKDIR,'aligned_Astrovirus.fasta',0)"
   ]
  },
  {
   "cell_type": "code",
   "execution_count": 93,
   "id": "63e7f4b5-6c75-4ce4-a050-5def0b57cd8b",
   "metadata": {
    "tags": []
   },
   "outputs": [],
   "source": [
    "selectSeq = selectRegion(alignedSeq,4555,5005)"
   ]
  },
  {
   "cell_type": "code",
   "execution_count": 94,
   "id": "2d7b41c4-d026-453f-a5b9-9853c9f632b4",
   "metadata": {
    "tags": []
   },
   "outputs": [],
   "source": [
    "#writeSeq(WKDIR,seqDict,metadataDict,filename)\n",
    "writeSeq(WKDIR,selectSeq,metadataDict,'Astrovirus_4555_5005.fasta')"
   ]
  },
  {
   "cell_type": "code",
   "execution_count": 95,
   "id": "10ee4e1c-070f-40f5-9387-9fefb0205080",
   "metadata": {
    "tags": []
   },
   "outputs": [],
   "source": [
    "filteredSeq = fliterHyphen(selectSeq,0)"
   ]
  },
  {
   "cell_type": "code",
   "execution_count": 96,
   "id": "35c6ff96-0a1c-4d51-b3ee-8f5440a038ba",
   "metadata": {
    "tags": []
   },
   "outputs": [
    {
     "data": {
      "text/plain": [
       "146"
      ]
     },
     "execution_count": 96,
     "metadata": {},
     "output_type": "execute_result"
    }
   ],
   "source": [
    "len(filteredSeq)"
   ]
  },
  {
   "cell_type": "code",
   "execution_count": 97,
   "id": "ed753ce8-4297-4dbb-8e4f-667c575466e9",
   "metadata": {
    "tags": []
   },
   "outputs": [],
   "source": [
    "#def writeSeq(WKDIR,seqDict,metadataDict,filename):\n",
    "writeSeqTrimHyphen(WKDIR,filteredSeq,metadataDict,'filtered_for_trim_Astrovirus.fasta')"
   ]
  },
  {
   "cell_type": "code",
   "execution_count": 98,
   "id": "457c360a-4c2f-4bf1-aee5-6bfa91c54c01",
   "metadata": {},
   "outputs": [
    {
     "name": "stdout",
     "output_type": "stream",
     "text": [
      "comparing sequences from          0  to        146\n",
      "\n",
      "      146  finished         42  clusters\n",
      "\n",
      "Approximated maximum memory consumption: 81M\n",
      "writing new database\n",
      "writing clustering information\n",
      "program completed !\n",
      "\n",
      "Total CPU time 0.09\n"
     ]
    }
   ],
   "source": [
    "!cd-hit -c 0.98 -i filtered_for_trim_Astrovirus.fasta -o trim_Astrovirus.fasta | tail -n 10"
   ]
  },
  {
   "cell_type": "code",
   "execution_count": 99,
   "id": "9ec40401-aab6-4042-8bcb-ac2f11124f8a",
   "metadata": {},
   "outputs": [],
   "source": [
    "# !iqtree -s trim_Rotavirus_A.fasta -m MFP -bb 1000 -T AUTO -redo -o 'NC_011503'"
   ]
  },
  {
   "cell_type": "code",
   "execution_count": 100,
   "id": "24640708-d1f5-4239-a76e-29909f63195b",
   "metadata": {
    "tags": []
   },
   "outputs": [],
   "source": [
    "findNCandWritetoFile(WKDIR,'NC_001943','trim_Astrovirus.fasta','Astrovirus')"
   ]
  },
  {
   "cell_type": "code",
   "execution_count": 101,
   "id": "8c2666c4-1c75-45ca-a425-5357a4703008",
   "metadata": {
    "tags": []
   },
   "outputs": [],
   "source": [
    "reverseComplement(WKDIR,'Astrovirus_exp.fasta','RC_Astrovirus_exp.fasta')"
   ]
  },
  {
   "cell_type": "code",
   "execution_count": 102,
   "id": "b47d25d6-8943-48d1-9d41-cf31994d96f1",
   "metadata": {
    "tags": []
   },
   "outputs": [],
   "source": [
    "refSeqDict = readSeq(WKDIR,'trim_Astrovirus.fasta',0)\n",
    "expSeqDict = readSeq(WKDIR,'RC_Astrovirus_exp.fasta',0)"
   ]
  },
  {
   "cell_type": "code",
   "execution_count": 103,
   "id": "1e6df284-7e46-4e2c-bc86-4294995b1bf8",
   "metadata": {
    "tags": []
   },
   "outputs": [],
   "source": [
    "unify = combineSeq(refSeqDict,expSeqDict)"
   ]
  },
  {
   "cell_type": "code",
   "execution_count": 104,
   "id": "660b86e1-2a40-4eaf-9af8-1c3fa48364a5",
   "metadata": {
    "tags": []
   },
   "outputs": [],
   "source": [
    "writeSeq(WKDIR,unify,metadataDict,'Unified_trim_Astrovirus_with_exp.fasta')"
   ]
  },
  {
   "cell_type": "code",
   "execution_count": 105,
   "id": "ef868073-1014-4288-ad1f-94da232f63e0",
   "metadata": {
    "tags": []
   },
   "outputs": [
    {
     "name": "stdout",
     "output_type": "stream",
     "text": [
      "nadd =  57\n",
      "npair =  57\n",
      "nseq =  58\n",
      "nlen =  465\n",
      "use multipair, weighti=2.7!\n",
      "nadd = 57\n",
      "generating a scoring matrix for nucleotide (dist=200) ... done\n",
      "dndpre (nuc) Version 7.520\n",
      "alg=X, model=DNA200 (2), 2.00 (6.00), -0.10 (-0.30), noshift, amax=0.0\n",
      "36 thread(s)\n",
      "\n",
      "generating a scoring matrix for nucleotide (dist=200) ... done\n",
      "All-to-all alignment.\n",
      "    0 / 1 (by thread   0) \n",
      "\n",
      "##### writing hat3\n",
      "pairlocalalign (nuc) Version 7.520\n",
      "alg=Y, model=DNA200 (2), 2.00 (6.00), -0.10 (-0.30), noshift, amax=0.0\n",
      "36 thread(s)\n",
      "\n",
      "nadd = 57\n",
      "ppenalty_ex = -10\n",
      "nthread = 36\n",
      "blosum 62 / kimura 200\n",
      "sueff_global = 0.100000\n",
      "norg = 1\n",
      "njobc = 2\n",
      "Loading 'hat3' ... \n",
      "done.\n",
      "generating a scoring matrix for nucleotide (dist=200) ... done\n",
      "Loading 'hat2n' (aligned sequences - new sequences) ... done.\n",
      "Loading 'hat2i' (aligned sequences) ... done.\n",
      "cTEP 56 / 57 (thread 10)                    c\n",
      "\n",
      "Combining ..\n",
      "   done.                      \n",
      "\n",
      "   done.                      \n",
      "\n",
      "addsingle (nuc) Version 7.520\n",
      "alg=A, model=DNA200 (2), 1.53 (4.59), -0.00 (-0.00), noshift, amax=0.0\n",
      "36 thread(s)\n",
      "\n",
      "\n",
      "To keep the alignment length, 232 letters were DELETED.\n",
      "To know the positions of deleted letters, rerun the same command with the --mapout option.\n",
      "\n",
      "Strategy:\n",
      " Multi-INS-fragment (Not tested.)\n",
      " ?\n",
      "\n",
      "If unsure which option to use, try 'mafft --auto input > output'.\n",
      "For more information, see 'mafft --help', 'mafft --man' and the mafft page.\n",
      "\n",
      "The default gap scoring scheme has been changed in version 7.110 (2013 Oct).\n",
      "It tends to insert more gaps into gap-rich regions than previous versions.\n",
      "To disable this change, add the --leavegappyregion option.\n",
      "\n"
     ]
    }
   ],
   "source": [
    "!mafft --thread 36 --auto --keeplength --addfragments /home/jovyan/data/SJ-data/Unified_trim_Astrovirus_with_exp.fasta /home/jovyan/data/SJ-data/Astrovirus-Ref-Region.fasta > /home/jovyan/data/SJ-data/aligned_Astrovirus_exp.fasta | tail -n 10"
   ]
  },
  {
   "cell_type": "code",
   "execution_count": 106,
   "id": "c4644c43-8a51-4aa4-9cfb-0fcfc1b95460",
   "metadata": {
    "tags": []
   },
   "outputs": [],
   "source": [
    "dedupNC(WKDIR,'aligned_Astrovirus_exp.fasta','aligned_Astrovirus_exp.fasta')"
   ]
  },
  {
   "cell_type": "code",
   "execution_count": 107,
   "id": "5fd88f6c-9d8d-436d-b3f4-e54c5a5eeb29",
   "metadata": {
    "tags": []
   },
   "outputs": [
    {
     "name": "stdout",
     "output_type": "stream",
     "text": [
      "OMP: Info #276: omp_set_nested routine deprecated, please use omp_set_max_active_levels instead.\n",
      "OMP: Info #276: omp_set_nested routine deprecated, please use omp_set_max_active_levels instead.\n",
      "OMP: Info #276: omp_set_nested routine deprecated, please use omp_set_max_active_levels instead.\n",
      "  IQ-TREE report:                aligned_Astrovirus_exp.fasta.iqtree\n",
      "  Maximum-likelihood tree:       aligned_Astrovirus_exp.fasta.treefile\n",
      "  Likelihood distances:          aligned_Astrovirus_exp.fasta.mldist\n",
      "\n",
      "Ultrafast bootstrap approximation results written to:\n",
      "  Split support values:          aligned_Astrovirus_exp.fasta.splits.nex\n",
      "  Consensus tree:                aligned_Astrovirus_exp.fasta.contree\n",
      "  Screen log file:               aligned_Astrovirus_exp.fasta.log\n",
      "\n",
      "Date and Time: Thu Jul 20 09:26:25 2023\n"
     ]
    }
   ],
   "source": [
    "!iqtree -s aligned_Astrovirus_exp.fasta -m MFP -bb 1000 -T 4 -redo -o 'NC_001943' | tail -n 10"
   ]
  },
  {
   "cell_type": "code",
   "execution_count": 108,
   "id": "98a9bba3-d3a2-4de0-b4f1-4e62e72a041c",
   "metadata": {
    "tags": []
   },
   "outputs": [],
   "source": [
    "seqForTranslate = readSeq(WKDIR,'aligned_Astrovirus_exp.fasta',0)"
   ]
  },
  {
   "cell_type": "code",
   "execution_count": 109,
   "id": "f1454e76-bde7-413b-a6de-535b9581b582",
   "metadata": {
    "tags": []
   },
   "outputs": [],
   "source": [
    "translate(WKDIR,seqForTranslate,'Astrovirus-AA',2,999)"
   ]
  },
  {
   "cell_type": "code",
   "execution_count": null,
   "id": "ce58d0d8-77da-4359-9977-aaa9affe311f",
   "metadata": {},
   "outputs": [],
   "source": []
  },
  {
   "cell_type": "code",
   "execution_count": null,
   "id": "5bb0c89d-b8f3-47b8-ad3a-bb4170fac04f",
   "metadata": {},
   "outputs": [],
   "source": []
  },
  {
   "cell_type": "code",
   "execution_count": null,
   "id": "3d14d52d-8f12-4364-8e88-1fb9c58c3265",
   "metadata": {},
   "outputs": [],
   "source": []
  },
  {
   "cell_type": "code",
   "execution_count": null,
   "id": "3cf9be1d-5e84-4067-967f-1b9b0dae55be",
   "metadata": {},
   "outputs": [],
   "source": []
  },
  {
   "cell_type": "code",
   "execution_count": null,
   "id": "b519304e-1fdb-458d-843d-9ea3fc621d71",
   "metadata": {},
   "outputs": [],
   "source": []
  },
  {
   "cell_type": "code",
   "execution_count": null,
   "id": "58f656e9-4d47-4eab-bdfe-4f7d0ffa9a58",
   "metadata": {},
   "outputs": [],
   "source": []
  },
  {
   "cell_type": "code",
   "execution_count": 37,
   "id": "7cdf48f5-2454-4cfb-83f1-392b1b3c08b4",
   "metadata": {},
   "outputs": [],
   "source": []
  },
  {
   "cell_type": "code",
   "execution_count": 61,
   "id": "aeb30b20-5464-4a78-8bab-ccd320846bcd",
   "metadata": {
    "tags": []
   },
   "outputs": [],
   "source": []
  },
  {
   "cell_type": "code",
   "execution_count": null,
   "id": "d931f098-fb18-4a8f-a678-f1b5b0c40fdf",
   "metadata": {},
   "outputs": [],
   "source": []
  },
  {
   "cell_type": "code",
   "execution_count": null,
   "id": "1f53ca11-1776-41f3-a85d-974a20373482",
   "metadata": {},
   "outputs": [],
   "source": []
  },
  {
   "cell_type": "code",
   "execution_count": 63,
   "id": "cd9d6dfd-1756-4b77-a369-102861158b6e",
   "metadata": {},
   "outputs": [],
   "source": []
  },
  {
   "cell_type": "code",
   "execution_count": null,
   "id": "d92cb402-f94b-451e-b3e4-b8373ba471cd",
   "metadata": {},
   "outputs": [],
   "source": []
  },
  {
   "cell_type": "code",
   "execution_count": null,
   "id": "9cad394c-a237-4eba-97ed-f2fc8ec75e05",
   "metadata": {},
   "outputs": [],
   "source": []
  },
  {
   "cell_type": "code",
   "execution_count": null,
   "id": "f8d6d084-67d5-4c4b-935e-9ff7cc169d4f",
   "metadata": {},
   "outputs": [],
   "source": []
  },
  {
   "cell_type": "code",
   "execution_count": null,
   "id": "5a6eefc3-b9db-4479-ac66-e87c17279005",
   "metadata": {},
   "outputs": [],
   "source": []
  },
  {
   "cell_type": "code",
   "execution_count": null,
   "id": "0eac7c5b-1dfb-4f49-a8e0-bc974aa41a26",
   "metadata": {},
   "outputs": [],
   "source": []
  },
  {
   "cell_type": "code",
   "execution_count": null,
   "id": "b85ce014-2ec4-4d02-bdee-33b2cc3df620",
   "metadata": {},
   "outputs": [],
   "source": []
  },
  {
   "cell_type": "code",
   "execution_count": null,
   "id": "27fac9e1-ee55-48f5-a2c9-045d2ec3314d",
   "metadata": {},
   "outputs": [],
   "source": []
  },
  {
   "cell_type": "code",
   "execution_count": null,
   "id": "2eb9a4a8-94ce-4ff4-b126-5833e57f5564",
   "metadata": {},
   "outputs": [],
   "source": []
  },
  {
   "cell_type": "code",
   "execution_count": null,
   "id": "ca005fa8-55e1-4026-8663-9b484abca8a2",
   "metadata": {},
   "outputs": [],
   "source": []
  },
  {
   "cell_type": "code",
   "execution_count": null,
   "id": "d372d871-6bad-4b51-9a11-09c4bdb558e6",
   "metadata": {},
   "outputs": [],
   "source": []
  },
  {
   "cell_type": "code",
   "execution_count": null,
   "id": "c14954ea-559c-4b65-961e-4aaf3af46de4",
   "metadata": {},
   "outputs": [],
   "source": []
  },
  {
   "cell_type": "code",
   "execution_count": null,
   "id": "be8fe620-c2b8-461d-8923-0dcbc939d60f",
   "metadata": {},
   "outputs": [],
   "source": []
  },
  {
   "cell_type": "code",
   "execution_count": null,
   "id": "b5bb9566-e22a-4e50-a6ac-93489252f88f",
   "metadata": {},
   "outputs": [],
   "source": []
  },
  {
   "cell_type": "code",
   "execution_count": null,
   "id": "83946df3-a0e2-47d0-96d1-0f5420b6781a",
   "metadata": {},
   "outputs": [],
   "source": []
  },
  {
   "cell_type": "code",
   "execution_count": null,
   "id": "9b64b3ef-7545-4ca5-b9d1-74613946b7df",
   "metadata": {},
   "outputs": [],
   "source": []
  },
  {
   "cell_type": "code",
   "execution_count": null,
   "id": "f0f7d31e-ba15-4e7c-83ee-7438d1c94b3e",
   "metadata": {},
   "outputs": [],
   "source": []
  },
  {
   "cell_type": "code",
   "execution_count": null,
   "id": "877037d4-732c-4a54-8487-790e2f856e8f",
   "metadata": {},
   "outputs": [],
   "source": []
  },
  {
   "cell_type": "code",
   "execution_count": null,
   "id": "7e0d9e24-6a7e-41d0-89f7-60a66f14c19d",
   "metadata": {},
   "outputs": [],
   "source": []
  },
  {
   "cell_type": "code",
   "execution_count": null,
   "id": "60052c6c-4dfc-483f-88a0-134cdfbf45b4",
   "metadata": {},
   "outputs": [],
   "source": []
  },
  {
   "cell_type": "code",
   "execution_count": null,
   "id": "a6ce44bd-50a6-4fc1-a632-194f080ac8a8",
   "metadata": {
    "trrack_graph": {
     "current": "bf5c8fc5-aec5-4813-b885-4575b15cd238",
     "nodes": {
      "bf5c8fc5-aec5-4813-b885-4575b15cd238": {
       "artifacts": [],
       "children": [],
       "createdOn": 1687837139618,
       "event": "Root",
       "id": "bf5c8fc5-aec5-4813-b885-4575b15cd238",
       "label": "Root",
       "level": 0,
       "meta": {
        "annotation": [],
        "bookmark": []
       },
       "state": {
        "type": "checkpoint",
        "val": {
         "interactions": []
        }
       }
      }
     },
     "root": "bf5c8fc5-aec5-4813-b885-4575b15cd238"
    }
   },
   "outputs": [],
   "source": []
  },
  {
   "cell_type": "code",
   "execution_count": null,
   "id": "ac3ada7c-af6a-4854-a517-af7c22a5de9c",
   "metadata": {
    "trrack_graph": {
     "current": "41ec2f9c-8682-49bc-866e-15081862c9d3",
     "nodes": {
      "41ec2f9c-8682-49bc-866e-15081862c9d3": {
       "artifacts": [],
       "children": [],
       "createdOn": 1687837139622,
       "event": "Root",
       "id": "41ec2f9c-8682-49bc-866e-15081862c9d3",
       "label": "Root",
       "level": 0,
       "meta": {
        "annotation": [],
        "bookmark": []
       },
       "state": {
        "type": "checkpoint",
        "val": {
         "interactions": []
        }
       }
      }
     },
     "root": "41ec2f9c-8682-49bc-866e-15081862c9d3"
    }
   },
   "outputs": [],
   "source": []
  },
  {
   "cell_type": "code",
   "execution_count": null,
   "id": "bf15ef51-2c0b-4f1e-a704-fcf01caaaf37",
   "metadata": {
    "trrack_graph": {
     "current": "6e6b280f-759d-4aad-b936-8872ed6abe4e",
     "nodes": {
      "6e6b280f-759d-4aad-b936-8872ed6abe4e": {
       "artifacts": [],
       "children": [],
       "createdOn": 1687837139626,
       "event": "Root",
       "id": "6e6b280f-759d-4aad-b936-8872ed6abe4e",
       "label": "Root",
       "level": 0,
       "meta": {
        "annotation": [],
        "bookmark": []
       },
       "state": {
        "type": "checkpoint",
        "val": {
         "interactions": []
        }
       }
      }
     },
     "root": "6e6b280f-759d-4aad-b936-8872ed6abe4e"
    }
   },
   "outputs": [],
   "source": []
  },
  {
   "cell_type": "code",
   "execution_count": null,
   "id": "c47b6466-076c-440c-a02e-372de9b650e4",
   "metadata": {
    "trrack_graph": {
     "current": "ffe210f0-0d1b-45b4-91b1-e7abea63667c",
     "nodes": {
      "ffe210f0-0d1b-45b4-91b1-e7abea63667c": {
       "artifacts": [],
       "children": [],
       "createdOn": 1687837139630,
       "event": "Root",
       "id": "ffe210f0-0d1b-45b4-91b1-e7abea63667c",
       "label": "Root",
       "level": 0,
       "meta": {
        "annotation": [],
        "bookmark": []
       },
       "state": {
        "type": "checkpoint",
        "val": {
         "interactions": []
        }
       }
      }
     },
     "root": "ffe210f0-0d1b-45b4-91b1-e7abea63667c"
    }
   },
   "outputs": [],
   "source": []
  },
  {
   "cell_type": "code",
   "execution_count": null,
   "id": "7b6d15b6-80b7-43d3-9e3d-f242582167a9",
   "metadata": {
    "trrack_graph": {
     "current": "3a6a2b06-a3fa-42a9-a666-0573bb80293b",
     "nodes": {
      "3a6a2b06-a3fa-42a9-a666-0573bb80293b": {
       "artifacts": [],
       "children": [],
       "createdOn": 1687837139634,
       "event": "Root",
       "id": "3a6a2b06-a3fa-42a9-a666-0573bb80293b",
       "label": "Root",
       "level": 0,
       "meta": {
        "annotation": [],
        "bookmark": []
       },
       "state": {
        "type": "checkpoint",
        "val": {
         "interactions": []
        }
       }
      }
     },
     "root": "3a6a2b06-a3fa-42a9-a666-0573bb80293b"
    }
   },
   "outputs": [],
   "source": []
  },
  {
   "cell_type": "code",
   "execution_count": null,
   "id": "11e4ae95-2678-4c9d-8b61-2a55b5c95acc",
   "metadata": {
    "trrack_graph": {
     "current": "c69e0def-8d18-467e-9c4a-3dc3105a1075",
     "nodes": {
      "c69e0def-8d18-467e-9c4a-3dc3105a1075": {
       "artifacts": [],
       "children": [],
       "createdOn": 1687837139638,
       "event": "Root",
       "id": "c69e0def-8d18-467e-9c4a-3dc3105a1075",
       "label": "Root",
       "level": 0,
       "meta": {
        "annotation": [],
        "bookmark": []
       },
       "state": {
        "type": "checkpoint",
        "val": {
         "interactions": []
        }
       }
      }
     },
     "root": "c69e0def-8d18-467e-9c4a-3dc3105a1075"
    }
   },
   "outputs": [],
   "source": []
  }
 ],
 "metadata": {
  "NB_UUID": "f4beb084-6eef-4a0e-88cd-e9578d1bcfa1",
  "kernelspec": {
   "display_name": "Python 3 (ipykernel)",
   "language": "python",
   "name": "python3"
  },
  "language_info": {
   "codemirror_mode": {
    "name": "ipython",
    "version": 3
   },
   "file_extension": ".py",
   "mimetype": "text/x-python",
   "name": "python",
   "nbconvert_exporter": "python",
   "pygments_lexer": "ipython3",
   "version": "3.10.11"
  },
  "toc-showmarkdowntxt": false
 },
 "nbformat": 4,
 "nbformat_minor": 5
}
